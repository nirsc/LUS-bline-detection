{
  "nbformat": 4,
  "nbformat_minor": 0,
  "metadata": {
    "colab": {
      "name": "radon.ipynb",
      "provenance": [],
      "collapsed_sections": []
    },
    "kernelspec": {
      "name": "python3",
      "display_name": "Python 3"
    }
  },
  "cells": [
    {
      "cell_type": "code",
      "metadata": {
        "id": "Ub-60F_fiDz9",
        "colab_type": "code",
        "colab": {}
      },
      "source": [
        "import cv2\n",
        "import matplotlib.pyplot as plt\n",
        "from skimage.transform import radon, iradon\n",
        "from scipy.ndimage import zoom\n",
        "import numpy as np\n",
        "import math\n",
        "\n",
        "image = cv2.imread('image.jpg', 0)"
      ],
      "execution_count": 0,
      "outputs": []
    },
    {
      "cell_type": "markdown",
      "metadata": {
        "id": "rckF3cw9j4JT",
        "colab_type": "text"
      },
      "source": [
        "Set the max deviation from vertical in the radon transform:"
      ]
    },
    {
      "cell_type": "code",
      "metadata": {
        "id": "S8bcGwbsiVmI",
        "colab_type": "code",
        "colab": {}
      },
      "source": [
        "max_angle = 45\n",
        "angles = np.hstack([\n",
        "    np.arange(0, max_angle),\n",
        "    np.arange(180 - max_angle, 180)\n",
        "])"
      ],
      "execution_count": 0,
      "outputs": []
    },
    {
      "cell_type": "code",
      "metadata": {
        "id": "Vvmy0X90jzBm",
        "colab_type": "code",
        "outputId": "e36362ed-9ede-4e6e-c8a6-c163500ee1c0",
        "colab": {
          "base_uri": "https://localhost:8080/",
          "height": 71
        }
      },
      "source": [
        "projections = radon(image, theta=angles, circle=False)"
      ],
      "execution_count": 0,
      "outputs": [
        {
          "output_type": "stream",
          "text": [
            "/usr/local/lib/python3.6/dist-packages/ipykernel_launcher.py:1: UserWarning: Image dtype is not float. By default radon will assume you want to preserve the range of your image (preserve_range=True). In scikit-image 0.18 this behavior will change to preserve_range=False. To avoid this warning, explicitly specify the preserve_range parameter.\n",
            "  \"\"\"Entry point for launching an IPython kernel.\n"
          ],
          "name": "stderr"
        }
      ]
    },
    {
      "cell_type": "markdown",
      "metadata": {
        "id": "f1XDgDLfkHQD",
        "colab_type": "text"
      },
      "source": [
        "Currently just pick the peak, but may choose another points in the sinogram according to some another heuristic:"
      ]
    },
    {
      "cell_type": "code",
      "metadata": {
        "id": "yIavXqLkkfNr",
        "colab_type": "code",
        "colab": {}
      },
      "source": [
        "peak = np.unravel_index(projections.argmax(), projections.shape)\n",
        "# The tomography rotation axis will lie at the pixel \n",
        "# index 'radon_image.shape[0] // 2' along the 0'th dimension of 'radon_image':\n",
        "peak = (peak[0] - (projections.shape[0] // 2), peak[1]) "
      ],
      "execution_count": 0,
      "outputs": []
    },
    {
      "cell_type": "markdown",
      "metadata": {
        "id": "Dj93XsaZlk6v",
        "colab_type": "text"
      },
      "source": [
        "*Find* the line equation (in the original image) of point in the sinogram."
      ]
    },
    {
      "cell_type": "code",
      "metadata": {
        "id": "tPG2nuBklOXZ",
        "colab_type": "code",
        "colab": {}
      },
      "source": [
        "def get_bias_slope(radon_point, image, angles):\n",
        "    r = radon_point[0]\n",
        "    theta = angles[radon_point[1]]\n",
        "    slope = np.tan(np.deg2rad(theta - 90))\n",
        "    center_i, center_j = image.shape[0] // 2, image.shape[1] // 2\n",
        "    #shouldn't it be  r*np.cos(np.deg2rad(theta))\n",
        "    shift_on_center_line = r / np.cos(np.deg2rad(theta))\n",
        "    point = (\n",
        "        center_i,\n",
        "        shift_on_center_line + center_j\n",
        "    )\n",
        "    #isn't bias just point[0]. This formula looks like a line equation.\n",
        "    bias = point[0] + point[1] * slope\n",
        "    return bias, slope\n",
        "\n",
        "bias, slope = get_bias_slope(peak, image, angles)\n"
      ],
      "execution_count": 0,
      "outputs": []
    },
    {
      "cell_type": "markdown",
      "metadata": {
        "id": "3YA7fdIOmRAm",
        "colab_type": "text"
      },
      "source": [
        "Find the intersection of the bounderies of image and a line:"
      ]
    },
    {
      "cell_type": "code",
      "metadata": {
        "id": "DX4XgQXnmOPN",
        "colab_type": "code",
        "colab": {}
      },
      "source": [
        "#what is this function supposed to do\n",
        "def intersection_points(bias, slope, image):\n",
        "    x = np.arange(image.shape[1])\n",
        "    # why is it minus slope\n",
        "    y = - slope * x + bias\n",
        "    in_image = (y > 0) & (y < image.shape[0])\n",
        "    #aren't both x and y 1-d. How does 2d indexing work\n",
        "    point1 = (y[in_image][0], x[in_image][0])\n",
        "    #does -1 == 1 ? If so, why not write one. Are you expecting\n",
        "    #there to be a second axis of variable length?\n",
        "    point2 = (y[in_image][-1], x[in_image][-1])\n",
        "    return point1, point2\n",
        "\n",
        "point1, point2 = intersection_points(bias, slope, image)"
      ],
      "execution_count": 0,
      "outputs": []
    },
    {
      "cell_type": "code",
      "metadata": {
        "id": "lBeuPJLulIRZ",
        "colab_type": "code",
        "outputId": "8351fc78-2a64-4bd6-d219-a3a250a45413",
        "colab": {
          "base_uri": "https://localhost:8080/",
          "height": 286
        }
      },
      "source": [
        "plt.imshow(image, cmap=plt.cm.Greys_r)\n",
        "plt.plot([point1[1], point2[1]], [point1[0], point2[0]])"
      ],
      "execution_count": 0,
      "outputs": [
        {
          "output_type": "execute_result",
          "data": {
            "text/plain": [
              "[<matplotlib.lines.Line2D at 0x7f8b1fe902e8>]"
            ]
          },
          "metadata": {
            "tags": []
          },
          "execution_count": 16
        },
        {
          "output_type": "display_data",
          "data": {
            "image/png": "[encoded data removed]",
            "text/plain": [
              "<Figure size 432x288 with 1 Axes>"
            ]
          },
          "metadata": {
            "tags": [],
            "needs_background": "light"
          }
        }
      ]
    }
  ]
}